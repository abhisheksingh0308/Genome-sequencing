{
  "nbformat": 4,
  "nbformat_minor": 0,
  "metadata": {
    "colab": {
      "name": "GenomeSequencing.ipynb",
      "provenance": [],
      "collapsed_sections": []
    },
    "kernelspec": {
      "name": "python3",
      "display_name": "Python 3"
    },
    "language_info": {
      "name": "python"
    }
  },
  "cells": [
    {
      "cell_type": "markdown",
      "source": [
        "Implementation of Greedy sorting:"
      ],
      "metadata": {
        "id": "W-R8WOxHTItf"
      }
    },
    {
      "cell_type": "code",
      "execution_count": null,
      "metadata": {
        "id": "K1iiVDcaTEUr"
      },
      "outputs": [],
      "source": [
        "sp = input(\"Please enter the signed permuatation matrix: \")\n",
        "sp = sp[1:len(sp)-1]\n",
        "data = sp.split()\n",
        "ans = []\n",
        "\n",
        "for i in range(0,len(data)):\n",
        "    if data[i] == \"+\"+str(i+1):\n",
        "        continue\n",
        "    else:\n",
        "        start = i\n",
        "        if \"+\"+str(i+1) in data:\n",
        "            end = data.index(\"+\"+str(i+1))\n",
        "        elif \"-\"+str(i+1) in data:\n",
        "            end = data.index(\"-\"+str(i+1))\n",
        "        data[start:end+1] = data[start:end+1][::-1]\n",
        "        for k in range(start,end+1):\n",
        "            if \"-\" in data[k]:\n",
        "                data[k] = data[k].replace(\"-\",\"+\")\n",
        "            else:\n",
        "                data[k] = data[k].replace(\"+\",\"-\")\n",
        "        ans.append(\"(\"+\" \".join(data)+\")\")\n",
        "    if data[i] == \"-\"+str(i+1):\n",
        "        data[i] = \"+\"+str(i+1)\n",
        "        ans.append(\"(\"+\" \".join(data)+\")\")\n",
        "print('Output : ')\n",
        "for a in ans:\n",
        "    print(a)\n"
      ]
    },
    {
      "cell_type": "markdown",
      "source": [
        "Number of breakpoints problem:"
      ],
      "metadata": {
        "id": "luVOs2WoTarB"
      }
    },
    {
      "cell_type": "code",
      "source": [
        "inp = input('Please enter the permuation: ')\n",
        "inp = inp[1: len(inp)-1].split()\n",
        "count = -1\n",
        "breakpointsCount = 0\n",
        "for i in inp:\n",
        "    count = count + 1\n",
        "    if '+' in i: \n",
        "        inp[count] = int(i[1:])\n",
        "    elif '-' in i:\n",
        "        inp[count] = -1 * int(i[1:])\n",
        "\n",
        "inp.append(len(inp)+1)\n",
        "inp.insert(0, 0)\n",
        "for i in range(0,len(inp)-1):\n",
        "    if inp[i]+1 != inp[i+1]:\n",
        "        breakpointsCount = breakpointsCount + 1\n",
        "print(\"The number of breakpoints in P is: \", breakpointsCount)\n"
      ],
      "metadata": {
        "id": "gHblSWhMTgEG"
      },
      "execution_count": null,
      "outputs": []
    },
    {
      "cell_type": "markdown",
      "source": [
        "Shared K-mers problem:"
      ],
      "metadata": {
        "id": "pO1LTkVWToI5"
      }
    },
    {
      "cell_type": "code",
      "source": [
        "def rev_comp(a):\n",
        "    revdic = {'A':'T', 'C':'G', 'T':'A', 'G':'C'}\n",
        "    ret=''\n",
        "    for i in a:\n",
        "        ret=ret+revdic[i]\n",
        "    return ret[::-1]\n",
        "\n",
        "st1 = input(\"Please enter the string one: \")\n",
        "st2 = input(\"Please enter the string two: \")\n",
        "k = int(input(\"Please enter kmer length: \"))\n",
        "st2list={}\n",
        "\n",
        "for n in range(0,len(st2)-k+1):\n",
        "    key = st2[n:n+k]\n",
        "    loc = n \n",
        "    if key in st2list.keys():\n",
        "        st2list[key].append(loc)\n",
        "        \n",
        "    if key not in st2list.keys():\n",
        "        st2list[key] = []\n",
        "        st2list[key].append(loc)\n",
        "        \n",
        "for i in range(0,len(st1)-k+1):\n",
        "    search = st1[i:i+k]\n",
        "    rev_search = rev_comp(st1[i:i+k])\n",
        "    loc = i\n",
        "\n",
        "    if search in st2list.keys():\n",
        "        index = st2list[search]\n",
        "        for j in index:\n",
        "            print(\"(\"+str(loc)+\", \"+str(j)+\")\")\n",
        "    if rev_search in st2list.keys():\n",
        "        index = st2list[rev_search]\n",
        "        for j in index:\n",
        "            print(\"(\"+str(loc)+\", \"+str(j)+\")\")\n"
      ],
      "metadata": {
        "id": "k-KAgozZTrC2"
      },
      "execution_count": null,
      "outputs": []
    },
    {
      "cell_type": "markdown",
      "source": [
        "Chromosome to cycle:"
      ],
      "metadata": {
        "id": "l-1CN00JTwnA"
      }
    },
    {
      "cell_type": "code",
      "source": [
        "def ChromosomeToCycle(inp):\n",
        "    inp = inp[1:len(inp)-1].split()\n",
        "    Node = []\n",
        "\n",
        "    for i in range(0,len(inp)):\n",
        "        inp[i] = int(inp[i])\n",
        "\n",
        "    for i in range(0,len(inp)):\n",
        "        if inp[i] > 0:\n",
        "            tail = 2*inp[i] - 1\n",
        "            head = 2*inp[i]\n",
        "            Node.append(tail)\n",
        "            Node.append(head)\n",
        "        else:\n",
        "            tail = -2*inp[i] - 1\n",
        "            head = -2*inp[i]\n",
        "            Node.append(head)\n",
        "            Node.append(tail)\n",
        "    \n",
        "    ans = '('\n",
        "    for i in Node[:len(Node)-1]:\n",
        "        ans = ans + str(i) +' '\n",
        "    ans = ans +str(Node[len(Node)-1]) +')'\n",
        "    return ans\n"
      ],
      "metadata": {
        "id": "Ia-tqqKHTy7L"
      },
      "execution_count": null,
      "outputs": []
    },
    {
      "cell_type": "markdown",
      "source": [
        "Cycle to chromosome:"
      ],
      "metadata": {
        "id": "cdJ6hYsuUr5c"
      }
    },
    {
      "cell_type": "code",
      "source": [
        "def CycleToChromosome(inp):\n",
        "    inp = inp[1:len(inp)-1].split()\n",
        "    Chromosome = []\n",
        "\n",
        "    for i in range(0, len(inp)):\n",
        "        inp[i] = int(inp[i])\n",
        "        \n",
        "    for i in range(0, int(len(inp)/2)):\n",
        "        if inp[2*i] < inp[2*i + 1]:\n",
        "            Chromosome.append('+' + str(int(inp[2*i+1]/2)))\n",
        "        else:\n",
        "            Chromosome.append('-' + str(int(inp[2*i]/2)))\n",
        "    ans = '(' \n",
        "    for i in Chromosome[:len(Chromosome)-1]:\n",
        "        ans = ans + i + ' '\n",
        "    ans = ans + Chromosome[len(Chromosome)-1] + ')'\n",
        "    return ans\n"
      ],
      "metadata": {
        "id": "F5piwP6LUv2E"
      },
      "execution_count": null,
      "outputs": []
    },
    {
      "cell_type": "markdown",
      "source": [
        "Colored edges:"
      ],
      "metadata": {
        "id": "nGlh72EoUzgo"
      }
    },
    {
      "cell_type": "code",
      "source": [
        "def ColoredEdges(inp):\n",
        "    inp = inp[1:len(inp)-1].split(')(')\n",
        "    results = []\n",
        "    solution = []\n",
        "    for i in inp:\n",
        "        i = i.replace('(','')\n",
        "        i = i.replace(')','')\n",
        "        i = '('+i+')'\n",
        "        results.append(toList(ChromosomeToCycle(i)))\n",
        "    for i in results:\n",
        "        i.append(i[0])\n",
        "        for j in range(1, len(i), 2):\n",
        "            sol = '('+str(i[j])+', '+str(i[j+1])+')'\n",
        "            solution.append(sol)\n",
        "\n",
        "    ans = solution[0]\n",
        "    for i in solution[1:len(solution)]:\n",
        "        ans = ans + ', ' + i\n",
        "    return ans\n"
      ],
      "metadata": {
        "id": "Y9Txu1gQU4LI"
      },
      "execution_count": null,
      "outputs": []
    },
    {
      "cell_type": "markdown",
      "source": [
        "Colored edges  cycles:"
      ],
      "metadata": {
        "id": "9djVrtcGU7s_"
      }
    },
    {
      "cell_type": "code",
      "source": [
        "def ColoredEdgesCycles(blue,red):\n",
        "    cycles = []\n",
        "    size = len(blue)+len(red) \n",
        "    adj = np.zeros(shape = (size,2), dtype = np.int)\n",
        "    visited = np.zeros(shape = size, dtype = np.bool)\n",
        "    for e in blue:\n",
        "        adj[e[0]-1,0] = e[1]-1\n",
        "        adj[e[1]-1,0] = e[0]-1\n",
        "    for e in red:\n",
        "        adj[e[0]-1,1] = e[1]-1\n",
        "        adj[e[1]-1,1] = e[0]-1\n",
        "    \n",
        "    for node in range(size):\n",
        "        if not visited[node]:\n",
        "            visited[node] = True\n",
        "            head = node\n",
        "            cycle = [head+1]\n",
        "            color = 0\n",
        "            while (True):\n",
        "                node = adj[node,color]\n",
        "                if (node == head):\n",
        "                    cycles.append(cycle)\n",
        "                    break\n",
        "                cycle.append(node+1)\n",
        "                visited[node] = True\n",
        "                color = (color+1) % 2\n",
        "    return cycles\n"
      ],
      "metadata": {
        "id": "XnBFwXF1VDdi"
      },
      "execution_count": null,
      "outputs": []
    },
    {
      "cell_type": "markdown",
      "source": [
        "2-Break distance problem:"
      ],
      "metadata": {
        "id": "xlzbJV-rVFd7"
      }
    },
    {
      "cell_type": "code",
      "source": [
        "def TwoBreakDistance(P,Q):\n",
        "    c1=ColoredEdges(P)\n",
        "    c2=ColoredEdges(Q)\n",
        "    c1 = forGraphToGenome(c1)\n",
        "    c2 = forGraphToGenome(c2)\n",
        "    c1 = list(map(tuple,c1))\n",
        "    c2 = list(map(tuple,c2))\n",
        "    size=len(c1)+len(c2)\n",
        "    l=ColoredEdgesCycles(c1,c2)\n",
        "    return int(size/2 - len(l))\n"
      ],
      "metadata": {
        "id": "gQVgS1QLVJBt"
      },
      "execution_count": null,
      "outputs": []
    },
    {
      "cell_type": "markdown",
      "source": [
        "Graph to genome problem:"
      ],
      "metadata": {
        "id": "OyrJC5xOVNts"
      }
    },
    {
      "cell_type": "code",
      "source": [
        "def GraphToGenome(Graph): \n",
        "        Graph = forGraphToGenome(Graph)    \n",
        "        genome = []\n",
        "        init = Graph[0][0]\n",
        "        if (init%2 == 0):\n",
        "            end = init-1\n",
        "        else:\n",
        "            end = init+1\n",
        "        p = []\n",
        "        i=0\n",
        "        while(True):\n",
        "            if (init%2 == 0):\n",
        "                p.append(int(init/2))\n",
        "            else:\n",
        "                p.append(int(-(init+1)/2))\n",
        "            next1 = Graph[i][1]\n",
        "            if (next1 == end):\n",
        "                genome.append(tuple(p))\n",
        "                if(i==len(Graph)):\n",
        "                    break\n",
        "                i=i+1\n",
        "                if(i==len(Graph)):\n",
        "                    break\n",
        "                init=Graph[i][0]\n",
        "                if (init%2 == 0):\n",
        "                    end = init-1\n",
        "                else:\n",
        "                    end = init+1\n",
        "                p=[]\n",
        "                continue\n",
        "            i=i+1\n",
        "            init=Graph[i][0]\n",
        "        ans = ''\n",
        "        for i in genome:\n",
        "            ans = ans + '('\n",
        "            for j in i[:len(i)-1]:\n",
        "                if j > 0:\n",
        "                    ans = ans + '+' + str(j) + ' '\n",
        "                else:\n",
        "                    ans = ans + str(j) + ' '\n",
        "            if i[len(i)-1] > 0:\n",
        "                ans = ans +'+'+ str(i[len(i)-1]) + ')'\n",
        "            else:\n",
        "                ans = ans + str(i[len(i)-1])+')'\n",
        "        return ans\n"
      ],
      "metadata": {
        "id": "HT5uD7fnVLPS"
      },
      "execution_count": null,
      "outputs": []
    },
    {
      "cell_type": "markdown",
      "source": [
        "2-Break on genome graph:"
      ],
      "metadata": {
        "id": "mDRkJNVRVSfz"
      }
    },
    {
      "cell_type": "code",
      "source": [
        "def TwoBreakOnGenomeGraph(genome,a,b,c,d):\n",
        "    genome = forGraphToGenome(genome)\n",
        "    genome = list(map(tuple,genome))\n",
        "    cgenome=[]\n",
        "    for g in genome:\n",
        "        if(g==(a,b)):\n",
        "            cgenome.append((a,c))\n",
        "        elif(g==(b,a)):\n",
        "            cgenome.append((b,d))\n",
        "        elif(g==(c,d)):\n",
        "            cgenome.append((c,a))\n",
        "        elif(g==(d,c)):\n",
        "            cgenome.append((d,b))\n",
        "        else:\n",
        "            cgenome.append(g)\n",
        "    return ', '.join(list(map(str,cgenome)))\n"
      ],
      "metadata": {
        "id": "HkMmmk30XwNS"
      },
      "execution_count": null,
      "outputs": []
    },
    {
      "cell_type": "markdown",
      "source": [
        "Implement 2-Break on genome: "
      ],
      "metadata": {
        "id": "XgBOVztqX0S4"
      }
    },
    {
      "cell_type": "code",
      "source": [
        "def TwoBreakOnGenome(genome,a,b,c,d):\n",
        "    g=ColoredEdges(genome)\n",
        "    g=TwoBreakOnGenomeGraph(g,a,b,c,d)\n",
        "    genome=GraphToGenome(g)\n",
        "    return genome\n"
      ],
      "metadata": {
        "id": "ZwX33K1nX2IG"
      },
      "execution_count": null,
      "outputs": []
    },
    {
      "cell_type": "markdown",
      "source": [
        "2-Break sorting problem:"
      ],
      "metadata": {
        "id": "LGwbog22X30I"
      }
    },
    {
      "cell_type": "code",
      "source": [
        "def TwoBreakSorting(P,Q):\n",
        "    c1=ColoredEdges(Q)\n",
        "    c1 = forGraphToGenome(c1)\n",
        "    c1 = list(map(tuple,c1))\n",
        "    transform=[P]\n",
        "    print(TwoBreakDistance(P,Q))\n",
        "    while(TwoBreakDistance(P,Q)>0):\n",
        "        cycles=ColoredEdgesCycles(list(map(tuple,ColoredEdges(P))),c1)\n",
        "        for cycle in cycles:\n",
        "            if(len(cycle)>3):\n",
        "                P=TwoBreakOnGenome(P,cycle[0],cycle[1],cycle[3],cycle[2])\n",
        "                transform.append(P)\n",
        "                break\n",
        "    return transform\n"
      ],
      "metadata": {
        "id": "UvlhMEbeX5ey"
      },
      "execution_count": null,
      "outputs": []
    },
    {
      "cell_type": "markdown",
      "source": [
        "Helper functions"
      ],
      "metadata": {
        "id": "9yPOcOwyX_aA"
      }
    },
    {
      "cell_type": "code",
      "source": [
        "def toList(inp):\n",
        "    inp = inp[1:len(inp)-1]\n",
        "    inp = inp.split()\n",
        "    inp = list(map(int,inp))\n",
        "    return inp\n",
        "\n",
        "def forGraphToGenome(inp):\n",
        "    inp = inp.replace('), ',')')\n",
        "    inp = inp.split(')(')\n",
        "    for i in range(0,len(inp)):\n",
        "        inp[i] = inp[i].replace(')','')\n",
        "        inp[i] = inp[i].replace('(','')\n",
        "        inp[i] = '(' + inp[i] + ')'\n",
        "        inp[i] = inp[i].replace(',','')\n",
        "        inp[i] = toList(inp[i])\n",
        "    return inp\n"
      ],
      "metadata": {
        "id": "W4NifDVPX_En"
      },
      "execution_count": null,
      "outputs": []
    }
  ]
}